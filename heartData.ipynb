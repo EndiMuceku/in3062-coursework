{
 "cells": [
  {
   "cell_type": "code",
   "execution_count": 1,
   "metadata": {},
   "outputs": [
    {
     "name": "stdout",
     "output_type": "stream",
     "text": [
      "   age  sex  cp  trestbps  chol  fbs  restecg  thalach  exang  oldpeak  slope  \\\n",
      "0   29    1   3        31    64    1        0       49      0       22      0   \n",
      "1    3    1   2        22    80    0        1       84      0       32      0   \n",
      "2    7    0   1        22    35    0        0       71      0       14      2   \n",
      "3   22    1   1        14    67    0        1       76      0        8      2   \n",
      "4   23    0   0        14   145    0        1       62      1        6      2   \n",
      "\n",
      "   ca  thal  target  \n",
      "0   0     1       1  \n",
      "1   0     2       1  \n",
      "2   0     2       1  \n",
      "3   0     2       1  \n",
      "4   0     2       1  \n"
     ]
    }
   ],
   "source": [
    "#imports\n",
    "import os\n",
    "import pandas as pd\n",
    "import numpy as np\n",
    "\n",
    "from sklearn import metrics\n",
    "from sklearn.preprocessing import LabelEncoder\n",
    "from sklearn.preprocessing import StandardScaler\n",
    "from sklearn.model_selection import train_test_split\n",
    "from sklearn.metrics import accuracy_score\n",
    "from sklearn.metrics import confusion_matrix\n",
    "from sklearn.neighbors import KNeighborsClassifier\n",
    "from sklearn.ensemble import RandomForestClassifier\n",
    "\n",
    "import matplotlib.pyplot as plt\n",
    "\n",
    "#plot a confusion matrix\n",
    "def plot_confusion_matrix(cm, names, title='Confusion matrix', cmap=plt.cm.Reds):\n",
    "    plt.imshow(cm, interpolation='nearest', cmap=cmap)\n",
    "    plt.title(title)\n",
    "    plt.colorbar(fraction=0.05)\n",
    "    tick_marks = np.arange(len(names))\n",
    "    plt.xticks(tick_marks, names, rotation=45)\n",
    "    plt.yticks(tick_marks, names)\n",
    "    plt.tight_layout()\n",
    "    plt.ylabel('True label')\n",
    "    plt.xlabel('Predicted label')\n",
    "\n",
    "#load the dataset\n",
    "path = \".\"\n",
    "\n",
    "filename_read = os.path.join(path, \"heart.csv\")\n",
    "df = pd.read_csv(filename_read)\n",
    "df - df.reindex(np.random.permutation(df.index))\n",
    "\n",
    "#columns to plot on the confusion matrix\n",
    "df.columns = ['age', 'sex',\t'cp', 'trestbps', 'chol', 'fbs', 'restecg', 'thalach', 'exang', 'oldpeak', 'slope',\t'ca', 'thal', 'target']\n",
    "cols = ['age', 'sex']\n",
    "\n",
    "#Encode the feature values which are strings to integers\n",
    "for label in df.columns:\n",
    "    df[label] = LabelEncoder().fit(df[label]).transform(df[label])\n",
    "\n",
    "print(df.head())"
   ]
  },
  {
   "cell_type": "code",
   "execution_count": 2,
   "metadata": {},
   "outputs": [
    {
     "name": "stdout",
     "output_type": "stream",
     "text": [
      "Number of patients with heart disease: 165\n",
      "Number of patients without heart disease: 138\n",
      "Number of male patients: 207\n",
      "Number of female patients: 96\n"
     ]
    }
   ],
   "source": [
    "print(\"Number of patients with heart disease: \" + str(len(df[df.target == 1])))\n",
    "print(\"Number of patients without heart disease: \" + str(len(df[df.target == 0])))\n",
    "print(\"Number of male patients: \" + str(len(df[df.sex == 1])))\n",
    "print(\"Number of female patients: \" + str(len(df[df.sex == 0])))"
   ]
  },
  {
   "cell_type": "code",
   "execution_count": 3,
   "metadata": {},
   "outputs": [
    {
     "data": {
      "text/plain": [
       "Text(0, 0.5, 'Maximum heart rate')"
      ]
     },
     "execution_count": 3,
     "metadata": {},
     "output_type": "execute_result"
    },
    {
     "data": {
      "image/png": "[encoded data removed]",
      "text/plain": [
       "<Figure size 504x360 with 1 Axes>"
      ]
     },
     "metadata": {
      "needs_background": "light"
     },
     "output_type": "display_data"
    }
   ],
   "source": [
    "plt.figure(figsize=(7, 5))\n",
    "plt.scatter(df.age[df.target==1], df.thalach[df.target==1], c=\"indianred\")\n",
    "plt.scatter(df.age[df.target==0], df.thalach[df.target==0], c=\"mediumseagreen\")\n",
    "plt.legend([\"Heart Disease\", \"No Heart Disease\"])\n",
    "plt.xlabel(\"Age\")\n",
    "plt.ylabel(\"Maximum heart rate\")"
   ]
  },
  {
   "cell_type": "code",
   "execution_count": 4,
   "metadata": {},
   "outputs": [
    {
     "name": "stdout",
     "output_type": "stream",
     "text": [
      "kNN Accuracy: 0.672\n",
      "Random Forest Accuracy: 0.754\n"
     ]
    }
   ],
   "source": [
    "# Create our X and y data    \n",
    "result = []\n",
    "for x in df.columns:\n",
    "    if x != 'target':\n",
    "        result.append(x)\n",
    "\n",
    "X = df[result].values\n",
    "y = df['target'].values\n",
    "\n",
    "#split the dataset\n",
    "X_train, X_test, y_train, y_test = train_test_split(    \n",
    "    X, y, test_size=0.2) \n",
    "\n",
    "#build a knn model\n",
    "knn = KNeighborsClassifier(n_neighbors=16)\n",
    "knn.fit(X_train, y_train) \n",
    "\n",
    "#Instantiate the model with 10 trees and entropy as splitting criteria\n",
    "rf = RandomForestClassifier()\n",
    "rf.fit(X_train, y_train)\n",
    "\n",
    "#make predictions\n",
    "y_pred_knn = knn.predict(X_test)\n",
    "y_pred_rf = rf.predict(X_test)\n",
    "\n",
    "#print results\n",
    "print('kNN Accuracy: %.3f' % accuracy_score(y_test, y_pred_knn))\n",
    "print('Random Forest Accuracy: %.3f' % accuracy_score(y_test, y_pred_rf))"
   ]
  },
  {
   "cell_type": "code",
   "execution_count": 5,
   "metadata": {},
   "outputs": [
    {
     "name": "stdout",
     "output_type": "stream",
     "text": [
      "Confusion matrix, without normalization\n",
      "[[21 10]\n",
      " [10 20]]\n",
      "Normalized confusion matrix\n",
      "[[0.68 0.32]\n",
      " [0.33 0.67]]\n"
     ]
    },
    {
     "data": {
      "image/png": "[encoded data removed]",
      "text/plain": [
       "<Figure size 432x288 with 2 Axes>"
      ]
     },
     "metadata": {
      "needs_background": "light"
     },
     "output_type": "display_data"
    },
    {
     "data": {
      "image/png": "[encoded data removed]",
      "text/plain": [
       "<Figure size 432x288 with 2 Axes>"
      ]
     },
     "metadata": {
      "needs_background": "light"
     },
     "output_type": "display_data"
    }
   ],
   "source": [
    "#print confusion matrix numerically, using library method\n",
    "cm = confusion_matrix(y_test, y_pred_knn)\n",
    "np.set_printoptions(precision=2)\n",
    "print('Confusion matrix, without normalization')\n",
    "print(cm)\n",
    "plt.figure()\n",
    "plot_confusion_matrix(cm, cols, title='')\n",
    "\n",
    "#graphical plots of confusion matrix using method above\n",
    "cm_normalized = cm.astype('float') / cm.sum(axis=1)[:, np.newaxis]\n",
    "print('Normalized confusion matrix')\n",
    "print(cm_normalized)\n",
    "plt.figure()\n",
    "plot_confusion_matrix(cm_normalized, cols, title='Normalized confusion matrix')\n",
    "plt.show()"
   ]
  },
  {
   "cell_type": "code",
   "execution_count": 6,
   "metadata": {},
   "outputs": [
    {
     "name": "stdout",
     "output_type": "stream",
     "text": [
      "    Actual  Predicted (kNN)  Predicted (RF)\n",
      "0        0                1               0\n",
      "1        1                1               1\n",
      "2        0                0               0\n",
      "3        0                0               0\n",
      "4        0                0               0\n",
      "5        1                1               1\n",
      "6        1                0               0\n",
      "7        1                1               1\n",
      "8        0                0               0\n",
      "9        0                0               0\n",
      "10       0                0               0\n",
      "11       1                1               1\n",
      "12       0                1               1\n",
      "13       0                1               1\n",
      "14       1                1               1\n",
      "15       1                1               1\n",
      "16       1                1               1\n",
      "17       1                0               0\n",
      "18       1                0               0\n",
      "19       1                0               0\n"
     ]
    }
   ],
   "source": [
    "#build a new data frame with three columns, the actual values of the test data, \n",
    "#and the predictions of the model\n",
    "df_compare = pd.DataFrame({'Actual': y_test, 'Predicted (kNN)': y_pred_knn, 'Predicted (RF)': y_pred_rf})\n",
    "df_head = df_compare.head(20)\n",
    "print(df_head)"
   ]
  },
  {
   "cell_type": "code",
   "execution_count": null,
   "metadata": {},
   "outputs": [],
   "source": []
  },
  {
   "cell_type": "code",
   "execution_count": null,
   "metadata": {},
   "outputs": [],
   "source": []
  },
  {
   "cell_type": "code",
   "execution_count": null,
   "metadata": {},
   "outputs": [],
   "source": []
  }
 ],
 "metadata": {
  "kernelspec": {
   "display_name": "Python 3",
   "language": "python",
   "name": "python3"
  },
  "language_info": {
   "codemirror_mode": {
    "name": "ipython",
    "version": 3
   },
   "file_extension": ".py",
   "mimetype": "text/x-python",
   "name": "python",
   "nbconvert_exporter": "python",
   "pygments_lexer": "ipython3",
   "version": "3.8.3"
  }
 },
 "nbformat": 4,
 "nbformat_minor": 4
}
